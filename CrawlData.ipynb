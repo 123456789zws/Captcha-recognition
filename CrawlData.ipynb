{
 "cells": [
  {
   "cell_type": "markdown",
   "id": "80ef16c0",
   "metadata": {},
   "source": [
    "# Get Verification code"
   ]
  },
  {
   "cell_type": "markdown",
   "id": "03c0f191",
   "metadata": {},
   "source": [
    "## 任务：得到1000张验证码图片\n",
    "\n",
    "链接：https://login.cdpf.org.cn/uams/person.html?user_type=4"
   ]
  },
  {
   "cell_type": "markdown",
   "id": "8fb895bc",
   "metadata": {},
   "source": [
    "## 1. 导入必要的第三方库"
   ]
  },
  {
   "cell_type": "code",
   "execution_count": 1,
   "id": "9527e6a5",
   "metadata": {},
   "outputs": [],
   "source": [
    "# 导入 selenium 库，以及其他必要的库\n",
    "from selenium import webdriver\n",
    "from selenium.webdriver.common.by import By\n",
    "from selenium.webdriver.chrome.options import Options\n",
    "import time\n",
    "import random\n",
    "from tqdm import tqdm\n",
    "import base64\n",
    "from PIL import Image\n",
    "import io"
   ]
  },
  {
   "cell_type": "markdown",
   "id": "5fe943e8",
   "metadata": {},
   "source": [
    "## 2. 前置设定"
   ]
  },
  {
   "cell_type": "code",
   "execution_count": 2,
   "id": "7b811726",
   "metadata": {},
   "outputs": [
    {
     "name": "stdout",
     "output_type": "stream",
     "text": [
      "需要爬取的总数量：2000\n",
      "验证集比例（0.0 - 0.5）：0.25\n"
     ]
    }
   ],
   "source": [
    "# 设置需要爬取图片的个数\n",
    "epochs = int(input(\"需要爬取的总数量：\"))\n",
    "# 测试集比例\n",
    "testPorb = float(input('验证集比例（0.0 - 0.5）：'))"
   ]
  },
  {
   "cell_type": "markdown",
   "id": "797bad8c",
   "metadata": {},
   "source": [
    "## 3. 配置webdirver"
   ]
  },
  {
   "cell_type": "code",
   "execution_count": 3,
   "id": "1975657a",
   "metadata": {},
   "outputs": [
    {
     "name": "stderr",
     "output_type": "stream",
     "text": [
      "Exception managing chrome: error sending request for url (https://googlechromelabs.github.io/chrome-for-testing/known-good-versions-with-downloads.json)\n"
     ]
    }
   ],
   "source": [
    "# 设置 Chrome 选项\n",
    "chrome_options = Options()\n",
    "chrome_options.add_argument(\"--headless\")  # 无头模式\n",
    "chrome_options.add_argument(\"--window-size=1920,1080\")  # 设置窗口大小\n",
    "\n",
    "# 初始化 Chrome WebDriver\n",
    "driver = webdriver.Chrome(options=chrome_options)"
   ]
  },
  {
   "cell_type": "markdown",
   "id": "03999d85",
   "metadata": {},
   "source": [
    "## 4. 初始化Web界面"
   ]
  },
  {
   "cell_type": "code",
   "execution_count": 4,
   "id": "e98892e7",
   "metadata": {},
   "outputs": [],
   "source": [
    "driver.get(\"https://login.cdpf.org.cn/uams/person.html?user_type=0\")\n",
    "time.sleep(3)"
   ]
  },
  {
   "cell_type": "markdown",
   "id": "07e4b8ea",
   "metadata": {},
   "source": [
    "## 5. 设置保存的目录"
   ]
  },
  {
   "cell_type": "code",
   "execution_count": 1,
   "id": "2b5021eb",
   "metadata": {},
   "outputs": [
    {
     "data": {
      "text/plain": [
       "('Model/DataProce/DataSet/Train', 'Model/DataProce/DataSet/Test')"
      ]
     },
     "execution_count": 1,
     "metadata": {},
     "output_type": "execute_result"
    }
   ],
   "source": [
    "ROOT_DIR = \"Modules/DataProce/DataSet\"\n",
    "TRAIN = \"Train\"\n",
    "TEST = \"Test\"\n",
    "TRAINDIR = ROOT_DIR + \"/\" + TRAIN\n",
    "TESTDIR = ROOT_DIR + \"/\" + TEST\n",
    "TRAINDIR, TESTDIR"
   ]
  },
  {
   "cell_type": "markdown",
   "id": "e682db73",
   "metadata": {},
   "source": [
    "## 6. 设置处理base64数据的方法\n",
    "\n",
    "1. 对字符进行切割\n",
    "2. 进行解码\n",
    "3. 进行保存"
   ]
  },
  {
   "cell_type": "code",
   "execution_count": null,
   "id": "56c9d886",
   "metadata": {},
   "outputs": [],
   "source": [
    "def dealBase64(idx, enc_base64):\n",
    "    # 设定保存目录(取前epochs * testPorb部分为测试集，其他的为训练集)\n",
    "    DIR = TRAINDIR if idx >= int(epochs * testPorb) else TESTDIR\n",
    "    enc_base64 = enc_base64.split(',')[1]\n",
    "\n",
    "    # 去掉换行符等无关字符\n",
    "    enc_base64 = enc_base64.replace('\\n', '').replace('%0A', '')\n",
    "    # 解码 Base64 数据\n",
    "    image_data = base64.b64decode(enc_base64)\n",
    "    image = Image.open(io.BytesIO(image_data))\n",
    "#     image.show()\n",
    "    image.save(f'{DIR}/{idx}.png', quality=1)"
   ]
  },
  {
   "cell_type": "markdown",
   "id": "007a444d",
   "metadata": {},
   "source": [
    "## 7. 设定爬取epochs张图片"
   ]
  },
  {
   "cell_type": "code",
   "execution_count": 7,
   "id": "7759c7a3",
   "metadata": {},
   "outputs": [
    {
     "name": "stderr",
     "output_type": "stream",
     "text": [
      "100%|████████████████████████████████████████████████████████████████████████████| 2000/2000 [1:31:23<00:00,  2.74s/it]\n"
     ]
    }
   ],
   "source": [
    "for epoch in tqdm(range(epochs)):\n",
    "    pic_link = driver.find_element(By.XPATH, '//*[@id=\"code\"]')\n",
    "    src_value = pic_link.get_attribute('src')\n",
    "    driver.refresh()\n",
    "    dealBase64(epoch, src_value)\n",
    "    time.sleep(random.uniform(1.5, 3))"
   ]
  },
  {
   "cell_type": "code",
   "execution_count": 8,
   "id": "20db2065",
   "metadata": {},
   "outputs": [
    {
     "data": {
      "text/plain": [
       "'SUCCESS!!!'"
      ]
     },
     "execution_count": 8,
     "metadata": {},
     "output_type": "execute_result"
    }
   ],
   "source": [
    "\"SUCCESS!!!\""
   ]
  },
  {
   "cell_type": "code",
   "execution_count": null,
   "id": "4f9a0319",
   "metadata": {},
   "outputs": [],
   "source": []
  }
 ],
 "metadata": {
  "kernelspec": {
   "display_name": "Python 3 (ipykernel)",
   "language": "python",
   "name": "python3"
  },
  "language_info": {
   "codemirror_mode": {
    "name": "ipython",
    "version": 3
   },
   "file_extension": ".py",
   "mimetype": "text/x-python",
   "name": "python",
   "nbconvert_exporter": "python",
   "pygments_lexer": "ipython3",
   "version": "3.11.5"
  }
 },
 "nbformat": 4,
 "nbformat_minor": 5
}
